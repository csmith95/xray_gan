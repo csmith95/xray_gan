{
 "cells": [
  {
   "cell_type": "code",
   "execution_count": 1,
   "metadata": {},
   "outputs": [],
   "source": [
    "import numpy as np\n",
    "import sys, os\n",
    "from PIL import Image\n",
    "from matplotlib.pyplot import imshow\n",
    "import pickle"
   ]
  },
  {
   "cell_type": "code",
   "execution_count": 5,
   "metadata": {},
   "outputs": [],
   "source": [
    "path_to_dict = './fake_images_to_labels_position_2.data'\n",
    "path_to_images = '/home/ubuntu/xray_gan/data/images_split_2/'\n",
    "path_to_selected_images = '/home/ubuntu/xray_gan/data/proj_images/'\n",
    "images_to_tples = None\n",
    "with open(path_to_dict, 'rb') as file:\n",
    "    images_to_tples = pickle.load(file)\n",
    "    assert images_to_tples != None"
   ]
  },
  {
   "cell_type": "code",
   "execution_count": 25,
   "metadata": {},
   "outputs": [
    {
     "name": "stdout",
     "output_type": "stream",
     "text": [
      "typ: young/ age: 11.0\n",
      "typ: middle/ age: 65.0\n",
      "typ: middle/ age: 25.0\n",
      "typ: young/ age: 8.0\n",
      "typ: middle/ age: 46.0\n",
      "typ: young/ age: 16.0\n",
      "typ: middle/ age: 41.0\n",
      "typ: young/ age: 16.0\n",
      "typ: middle/ age: 38.0\n",
      "typ: old/ age: 80.0\n",
      "typ: young/ age: 4.0\n",
      "typ: old/ age: 73.0\n",
      "typ: middle/ age: 23.0\n",
      "typ: young/ age: 7.0\n",
      "typ: young/ age: 10.0\n",
      "typ: young/ age: 6.0\n",
      "typ: young/ age: 15.0\n",
      "typ: old/ age: 77.0\n",
      "typ: old/ age: 84.0\n",
      "typ: middle/ age: 36.0\n",
      "typ: middle/ age: 51.0\n",
      "typ: old/ age: 86.0\n",
      "typ: young/ age: 17.0\n",
      "typ: old/ age: 83.0\n",
      "typ: old/ age: 73.0\n",
      "typ: middle/ age: 34.0\n",
      "typ: old/ age: 81.0\n",
      "typ: old/ age: 88.0\n",
      "typ: old/ age: 78.0\n",
      "typ: middle/ age: 68.0\n"
     ]
    }
   ],
   "source": [
    "num_young = 0\n",
    "num_old = 0\n",
    "num_middle = 0\n",
    "all_images = {}\n",
    "for image in images_to_tples:\n",
    "    typ = None\n",
    "    im_path = path_to_images\n",
    "    if images_to_tples[image][0] <= 20.0:\n",
    "        if num_young == 10:\n",
    "            continue\n",
    "        typ = 'young/'\n",
    "        print('typ: {} age: {}'.format(typ, images_to_tples[image][0]))\n",
    "        num_young += 1\n",
    "#         print('typ: {} age: {}'.format(typ, images_to_tples[image][0]))\n",
    "    elif images_to_tples[image][0] >= 70.0:\n",
    "        if num_old == 10:\n",
    "            continue\n",
    "        typ = 'old/'\n",
    "        print('typ: {} age: {}'.format(typ, images_to_tples[image][0]))\n",
    "        num_old += 1\n",
    "    else:\n",
    "        if num_middle == 10:\n",
    "            continue\n",
    "        typ = 'middle/'\n",
    "        print('typ: {} age: {}'.format(typ, images_to_tples[image][0]))\n",
    "        num_middle += 1\n",
    "#     print('typ: {} age: {}'.format(typ, images_to_tples[image][0]))\n",
    "\n",
    "    if images_to_tples[image][2] == 0:\n",
    "        im_path += 'healthy/'\n",
    "    else:\n",
    "        im_path += 'unhealthy/'\n",
    "    im_copy = Image.open(im_path + image).copy()\n",
    "    new_path = path_to_selected_images\n",
    "    new_path += typ\n",
    "    if not os.path.isdir(new_path):\n",
    "        os.makedirs(new_path)\n",
    "    new_path_image = new_path + image\n",
    "    if not os.path.isfile(new_path_image):\n",
    "        im_copy.save(new_path_image, 'png', quality=90)\n",
    "    all_images[image] = images_to_tples[image]\n",
    "    if num_young == 10 and num_middle == 10 and num_old == 10:\n",
    "        break\n",
    "        "
   ]
  },
  {
   "cell_type": "code",
   "execution_count": 26,
   "metadata": {},
   "outputs": [
    {
     "name": "stdout",
     "output_type": "stream",
     "text": [
      "{'fake_generated_image2727.png': (16.0, 1, 0, 1), 'fake_generated_image14674.png': (38.0, 0, 0, 1), 'fake_generated_image16822.png': (65.0, 0, 0, 0), 'fake_generated_image14230.png': (25.0, 0, 0, 1), 'fake_generated_image10617.png': (8.0, 1, 1, 1), 'fake_generated_image17749.png': (46.0, 0, 1, 0), 'fake_generated_image9559.png': (11.0, 0, 1, 0), 'fake_generated_image16214.png': (41.0, 0, 1, 1), 'fake_generated_image3542.png': (16.0, 0, 1, 0), 'fake_generated_image22594.png': (80.0, 1, 1, 0), 'fake_generated_image8778.png': (4.0, 1, 0, 0), 'fake_generated_image23879.png': (73.0, 0, 1, 0), 'fake_generated_image12259.png': (23.0, 1, 0, 0), 'fake_generated_image4061.png': (7.0, 1, 0, 0), 'fake_generated_image1168.png': (10.0, 1, 1, 1), 'fake_generated_image8838.png': (6.0, 1, 1, 0), 'fake_generated_image3013.png': (15.0, 1, 1, 0), 'fake_generated_image29424.png': (77.0, 1, 1, 0), 'fake_generated_image20157.png': (84.0, 1, 1, 0), 'fake_generated_image12050.png': (36.0, 0, 0, 1), 'fake_generated_image15478.png': (51.0, 1, 0, 0), 'fake_generated_image19408.png': (86.0, 0, 1, 0), 'fake_generated_image1038.png': (17.0, 0, 1, 0), 'fake_generated_image26654.png': (83.0, 0, 1, 0), 'fake_generated_image19642.png': (73.0, 0, 1, 1), 'fake_generated_image15988.png': (34.0, 1, 1, 0), 'fake_generated_image16819.png': (68.0, 0, 1, 0), 'fake_generated_image27274.png': (81.0, 1, 1, 1), 'fake_generated_image23203.png': (88.0, 1, 0, 1), 'fake_generated_image28386.png': (78.0, 0, 1, 1)}\n"
     ]
    }
   ],
   "source": [
    "print(all_images)"
   ]
  },
  {
   "cell_type": "code",
   "execution_count": 27,
   "metadata": {},
   "outputs": [
    {
     "name": "stdout",
     "output_type": "stream",
     "text": [
      "30\n"
     ]
    }
   ],
   "source": [
    "print(len(all_images))"
   ]
  },
  {
   "cell_type": "code",
   "execution_count": null,
   "metadata": {},
   "outputs": [],
   "source": []
  },
  {
   "cell_type": "code",
   "execution_count": null,
   "metadata": {},
   "outputs": [],
   "source": []
  }
 ],
 "metadata": {
  "kernelspec": {
   "display_name": "Python 2",
   "language": "python",
   "name": "python2"
  },
  "language_info": {
   "codemirror_mode": {
    "name": "ipython",
    "version": 2
   },
   "file_extension": ".py",
   "mimetype": "text/x-python",
   "name": "python",
   "nbconvert_exporter": "python",
   "pygments_lexer": "ipython2",
   "version": "2.7.12"
  }
 },
 "nbformat": 4,
 "nbformat_minor": 2
}
