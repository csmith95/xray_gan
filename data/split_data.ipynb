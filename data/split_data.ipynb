{
 "cells": [
  {
   "cell_type": "code",
   "execution_count": 1,
   "metadata": {},
   "outputs": [],
   "source": [
    "import numpy as np\n",
    "import sys, os\n",
    "from PIL import Image\n",
    "from matplotlib.pyplot import imshow\n",
    "import pickle"
   ]
  },
  {
   "cell_type": "code",
   "execution_count": 2,
   "metadata": {},
   "outputs": [],
   "source": [
    "orig_path_to_images = './images/'\n",
    "new_path_to_images = './images_split/' \n",
    "new_size = 32\n"
   ]
  },
  {
   "cell_type": "code",
   "execution_count": 4,
   "metadata": {},
   "outputs": [],
   "source": [
    "def resize_save(im, healthy):\n",
    "    im_copy = Image.open(orig_path_to_images + im).copy()\n",
    "    im_copy_resize = im_copy.resize((new_size, new_size), Image.ANTIALIAS)\n",
    "    new_path = new_path_to_images\n",
    "    if healthy:\n",
    "        new_path += 'healthy/'\n",
    "    else:\n",
    "        new_path += 'unhealthy/'\n",
    "    if not os.path.isdir(new_path):\n",
    "        os.makedirs(new_path)\n",
    "    new_path_image = new_path + im\n",
    "    if not os.path.isfile(new_path_image):\n",
    "        im_copy_resize.save(new_path_image, 'png', quality=90)"
   ]
  },
  {
   "cell_type": "code",
   "execution_count": 5,
   "metadata": {},
   "outputs": [],
   "source": [
    "train_data = './train_image_ids.data'\n",
    "val_data = './val_image_ids.data'\n",
    "train_ids = None\n",
    "with open(train_data, 'rb') as train_f:\n",
    "    train_ids = pickle.load(train_f)\n",
    "    assert train_ids != None\n",
    "val_ids = None\n",
    "with open(val_data, 'rb') as val_f:\n",
    "    val_ids = pickle.load(val_f)\n",
    "    assert val_ids != None"
   ]
  },
  {
   "cell_type": "code",
   "execution_count": 6,
   "metadata": {},
   "outputs": [
    {
     "name": "stdout",
     "output_type": "stream",
     "text": [
      "22446\n",
      "67137\n",
      "89583\n"
     ]
    }
   ],
   "source": [
    "print(len(val_ids))\n",
    "print(len(train_ids))\n",
    "val_ids.extend(train_ids)\n",
    "all_ids = val_ids\n",
    "print(len(all_ids))"
   ]
  },
  {
   "cell_type": "code",
   "execution_count": 11,
   "metadata": {},
   "outputs": [
    {
     "name": "stdout",
     "output_type": "stream",
     "text": [
      "0\n",
      "10000\n",
      "20000\n",
      "30000\n",
      "40000\n",
      "50000\n",
      "60000\n",
      "70000\n",
      "80000\n"
     ]
    }
   ],
   "source": [
    "labels = None\n",
    "with open('./labels.data', 'rb') as filehandle:\n",
    "    labels = pickle.load(filehandle)\n",
    "    assert labels != None\n",
    "    \n",
    "count = 0\n",
    "for i_d in all_ids:\n",
    "    if i_d in labels:\n",
    "        if count % 10000 == 0: \n",
    "            print(count)\n",
    "        count += 1\n",
    "        resize_save(i_d, labels[i_d]>0)\n",
    "        "
   ]
  },
  {
   "cell_type": "code",
   "execution_count": 3,
   "metadata": {},
   "outputs": [
    {
     "name": "stdout",
     "output_type": "stream",
     "text": [
      "(32, 32)\n"
     ]
    }
   ],
   "source": [
    "im = Image.open(new_path_to_images+\"unhealthy/00030801_001.png\", 'r')\n",
    "print(np.asarray(im).shape)"
   ]
  },
  {
   "cell_type": "code",
   "execution_count": null,
   "metadata": {},
   "outputs": [],
   "source": []
  }
 ],
 "metadata": {
  "kernelspec": {
   "display_name": "Python 3",
   "language": "python",
   "name": "python3"
  },
  "language_info": {
   "codemirror_mode": {
    "name": "ipython",
    "version": 3
   },
   "file_extension": ".py",
   "mimetype": "text/x-python",
   "name": "python",
   "nbconvert_exporter": "python",
   "pygments_lexer": "ipython3",
   "version": "3.7.4"
  }
 },
 "nbformat": 4,
 "nbformat_minor": 2
}
