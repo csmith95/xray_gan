{
 "cells": [
  {
   "cell_type": "code",
   "execution_count": 1,
   "metadata": {},
   "outputs": [],
   "source": [
    "import matplotlib\n",
    "import matplotlib.pyplot as plt\n",
    "import pandas as pd\n",
    "import numpy as np\n",
    "from sklearn.model_selection import train_test_split\n",
    "import pickle"
   ]
  },
  {
   "cell_type": "code",
   "execution_count": 10,
   "metadata": {},
   "outputs": [
    {
     "name": "stdout",
     "output_type": "stream",
     "text": [
      "**************************************** General Info ****************************************\n"
     ]
    }
   ],
   "source": [
    "df = pd.read_csv('./data_entry.csv')\n",
    "df = df.dropna(\\\n",
    "    subset=['Image Index', 'Finding Labels', 'Patient ID', 'Patient Age', 'Patient Gender']\\\n",
    ") # drop rows with null values in these columns -- with current column subset, no values are dropped (:\n",
    "\n",
    "# since there are ridiculous ages ranging from 148 to 414, filter the ones that are obviously wrong\n",
    "df = df[df['Patient Age'] <= 90]\n",
    "\n",
    "print('*'*40 + ' General Info ' + '*'*40)\n",
    "\n",
    "\n",
    "# print(df['Image Index'])\n",
    "# print(df['Patient Age'])"
   ]
  },
  {
   "cell_type": "code",
   "execution_count": 16,
   "metadata": {},
   "outputs": [],
   "source": [
    "image_to_index = {}\n",
    "for idx in df['Image Index'].index:\n",
    "    image_to_index[df['Image Index'][idx]] = idx"
   ]
  },
  {
   "cell_type": "code",
   "execution_count": 18,
   "metadata": {},
   "outputs": [],
   "source": [
    "# print(image_to_index)"
   ]
  },
  {
   "cell_type": "code",
   "execution_count": 24,
   "metadata": {},
   "outputs": [],
   "source": [
    "image_to_age = {}\n",
    "image_to_gender = {}\n",
    "for image in image_to_index:\n",
    "    image_to_age[image] = df['Patient Age'][image_to_index[image]]\n",
    "    image_to_gender[image] = 0 if df['Patient Gender'][image_to_index[image]] == 'F' else 1"
   ]
  },
  {
   "cell_type": "code",
   "execution_count": 26,
   "metadata": {},
   "outputs": [],
   "source": [
    "# print(image_to_gender)"
   ]
  },
  {
   "cell_type": "code",
   "execution_count": 29,
   "metadata": {},
   "outputs": [],
   "source": [
    "with open('./image_to_age.data', 'wb') as filehandle:\n",
    "        # store the data as binary data stream\n",
    "        pickle.dump(image_to_age, filehandle, protocol=2)\n",
    "        \n",
    "with open('./image_to_gender.data', 'wb') as filehandle:\n",
    "        # store the data as binary data stream\n",
    "        pickle.dump(image_to_gender, filehandle, protocol=2)"
   ]
  },
  {
   "cell_type": "code",
   "execution_count": null,
   "metadata": {},
   "outputs": [],
   "source": []
  }
 ],
 "metadata": {
  "kernelspec": {
   "display_name": "Python 3",
   "language": "python",
   "name": "python3"
  },
  "language_info": {
   "codemirror_mode": {
    "name": "ipython",
    "version": 3
   },
   "file_extension": ".py",
   "mimetype": "text/x-python",
   "name": "python",
   "nbconvert_exporter": "python",
   "pygments_lexer": "ipython3",
   "version": "3.6.6"
  }
 },
 "nbformat": 4,
 "nbformat_minor": 2
}
